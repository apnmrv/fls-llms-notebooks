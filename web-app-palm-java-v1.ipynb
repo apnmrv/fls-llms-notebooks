{
 "cells": [
  {
   "cell_type": "markdown",
   "id": "b97ddf3b-d921-4169-9d82-b0ee95e9eccd",
   "metadata": {},
   "source": [
    "# WebApp Prototyping with Google PaLM"
   ]
  },
  {
   "cell_type": "code",
   "execution_count": 20,
   "id": "d4b5d18c",
   "metadata": {},
   "outputs": [],
   "source": [
    "OUTPUT_PATH = \"output/palm/java\""
   ]
  },
  {
   "cell_type": "code",
   "execution_count": 2,
   "id": "afb69c7a",
   "metadata": {},
   "outputs": [],
   "source": [
    "technology_stack = {\n",
    "    \"database\": \"PostgreSQL\",\n",
    "    \"backend\": {\n",
    "        \"language\": \"Java\",\n",
    "        \"framework\": \"Spring Framework 6.1.0\",\n",
    "        \"testing_framework\": \"JUnit5\"\n",
    "    },\n",
    "    \"frontend\": {\n",
    "        \"language\": \"Javascript\",\n",
    "        \"framework\": \"Vue\"\n",
    "    }\n",
    "}"
   ]
  },
  {
   "cell_type": "code",
   "execution_count": 25,
   "id": "00d5b87a",
   "metadata": {},
   "outputs": [],
   "source": [
    "def output_response(data: str, filename: str):\n",
    "    output_file_path = OUTPUT_PATH + \"/\" + filename\n",
    "    with open(output_file_path, 'w') as f:\n",
    "        f.write(data)"
   ]
  },
  {
   "cell_type": "markdown",
   "id": "14a11718",
   "metadata": {},
   "source": [
    "## Setup"
   ]
  },
  {
   "cell_type": "code",
   "execution_count": 3,
   "id": "2800e646",
   "metadata": {},
   "outputs": [],
   "source": [
    "import os\n",
    "import google.generativeai as palm\n",
    "from google.api_core import client_options as client_options_lib"
   ]
  },
  {
   "cell_type": "code",
   "execution_count": 4,
   "id": "b1c70510",
   "metadata": {},
   "outputs": [],
   "source": [
    "google_api_key = os.getenv('GOOGLEAI_API_KEY')"
   ]
  },
  {
   "cell_type": "code",
   "execution_count": 5,
   "id": "88d6d47e",
   "metadata": {},
   "outputs": [],
   "source": [
    "palm.configure(api_key=google_api_key)"
   ]
  },
  {
   "cell_type": "code",
   "execution_count": 6,
   "id": "ed659d4a",
   "metadata": {},
   "outputs": [
    {
     "data": {
      "text/plain": [
       "Model(name='models/text-bison-001',\n",
       "      base_model_id='',\n",
       "      version='001',\n",
       "      display_name='Text Bison',\n",
       "      description='Model targeted for text generation.',\n",
       "      input_token_limit=8196,\n",
       "      output_token_limit=1024,\n",
       "      supported_generation_methods=['generateText', 'countTextTokens', 'createTunedTextModel'],\n",
       "      temperature=0.7,\n",
       "      top_p=0.95,\n",
       "      top_k=40)"
      ]
     },
     "execution_count": 6,
     "metadata": {},
     "output_type": "execute_result"
    }
   ],
   "source": [
    "models = [m for m in palm.list_models() if 'generateText' in m.supported_generation_methods]\n",
    "model_bison = models[0]\n",
    "model_bison"
   ]
  },
  {
   "cell_type": "code",
   "execution_count": 7,
   "id": "9fb6f2de",
   "metadata": {},
   "outputs": [],
   "source": [
    "from google.api_core import retry\n",
    "@retry.Retry()\n",
    "def get_completion(prompt, \n",
    "                  model=model_bison, \n",
    "                  temperature=0.0):\n",
    "    return palm.generate_text(prompt=prompt,\n",
    "                              model=model,\n",
    "                              temperature=temperature)"
   ]
  },
  {
   "cell_type": "code",
   "execution_count": 8,
   "id": "c701d0b4",
   "metadata": {},
   "outputs": [],
   "source": [
    "responses = {}"
   ]
  },
  {
   "cell_type": "markdown",
   "id": "71d1a1df-03c3-4f38-af6d-3962362f3dcd",
   "metadata": {},
   "source": [
    "## A technical specification of the business domain based on a client request"
   ]
  },
  {
   "cell_type": "code",
   "execution_count": 9,
   "id": "37e7bf74",
   "metadata": {},
   "outputs": [],
   "source": [
    "brand_name = \"On all fours\""
   ]
  },
  {
   "cell_type": "code",
   "execution_count": 10,
   "id": "5be90e47",
   "metadata": {},
   "outputs": [],
   "source": [
    "business_requirements = f\"\"\"\n",
    "As an entrepreneur stepping into the online retail space, \n",
    "I am lookinng for an expertise in developing an e-commerce website for my upcoming business venture.\n",
    "I aim to launch a dynamic, user-friendly platform dedicated to selling shoes. \n",
    "Below, I outline my requirements and expectations for this project.\n",
    "\n",
    "Business Overview:\n",
    "Our brand, {brand_name}, is poised to enter the online shoe market. \n",
    "We aim to offer a wide range of footwear for various demographics, \n",
    "focusing on quality, style, and comfort. \n",
    "Our objective is to create a seamless and engaging online shopping \n",
    "experience for our customers.\n",
    "\n",
    "Project Scope:\n",
    "\n",
    "Website Design and Development:\n",
    "\n",
    "Aesthetic that resonates with our brand's image.\n",
    "Responsive design compatible with desktop, tablet, and mobile devices.\n",
    "User-friendly navigation and intuitive layout.\n",
    "E-Commerce Functionality:\n",
    "\n",
    "Product catalog with high-quality images and detailed descriptions.\n",
    "Shopping cart and secure checkout process.\n",
    "Payment gateway integration (e.g., PayPal, credit/debit cards).\n",
    "Inventory management system.\n",
    "Customer Account Features:\n",
    "\n",
    "User registration and login.\n",
    "Order history and tracking.\n",
    "Wishlist and product review system.\n",
    "SEO and Analytics:\n",
    "\n",
    "SEO optimization for better visibility in search engines.\n",
    "Integration with analytics tools to track website performance and customer behavior.\n",
    "Security:\n",
    "\n",
    "SSL certification for secure transactions.\n",
    "Compliance with data protection regulations.\n",
    "Maintenance and Support:\n",
    "\n",
    "Ongoing website maintenance post-launch.\n",
    "Technical support and troubleshooting.\n",
    "Timeline and Budget:\n",
    "\n",
    "We are aiming to launch the website within [specify timeline, e.g., 6 months].\n",
    "Our budget for this project is in the range of [specify budget].\n",
    "Proposal Requirements:\n",
    "Please provide a detailed proposal that includes:\n",
    "\n",
    "Your approach to website design and development.\n",
    "An overview of the technology stack you plan to use.\n",
    "A breakdown of costs and time estimates for each phase of the project.\n",
    "Examples of similar e-commerce websites you have developed.\n",
    "Information about post-launch support and maintenance services.\n",
    "\"\"\""
   ]
  },
  {
   "cell_type": "markdown",
   "id": "199561f5",
   "metadata": {},
   "source": [
    "## Project specification"
   ]
  },
  {
   "cell_type": "code",
   "execution_count": 34,
   "id": "4f656d0c",
   "metadata": {},
   "outputs": [],
   "source": [
    "prompt = f\"\"\"\n",
    "You are a an experienced web application architect.                      \\\\\n",
    "Your team prefers using the following technology stack:                  \\\\ \n",
    "- for database: {technology_stack[\"database\"]}                           \\\\\n",
    "- for backend:                                                           \\\\  \n",
    "    - language: {technology_stack[\"backend\"][\"language\"]}                \\\\ \n",
    "    - framework: {technology_stack[\"backend\"][\"framework\"]}              \\\\\n",
    "    - testing framework: {technology_stack[\"backend\"][\"testing_framework\"]}    \\\\\n",
    "- for frontend:                                                          \\\\\n",
    "    - language: {technology_stack[\"frontend\"][\"language\"]}               \\\\\n",
    "    - framework: {technology_stack[\"frontend\"][\"framework\"]}             \\\\\n",
    "\n",
    "Your task is to provide a technical description of a project             \\\\\n",
    "using a client's request.                                                \\\\\n",
    "\n",
    "Create a technical specification based on your team preferences and       \\\\\n",
    "the client requirements provided below and delimited by triple backticks. \\\\\n",
    "\n",
    "Business requirements: ```{business_requirements}```\n",
    "\"\"\"\n",
    "completion = get_completion(prompt)\n",
    "responses[\"project_specification\"] = completion.result"
   ]
  },
  {
   "cell_type": "code",
   "execution_count": 35,
   "id": "63aa4e04",
   "metadata": {},
   "outputs": [],
   "source": [
    "output_file_name = \"project_specification.md\"\n",
    "data = responses[\"project_specification\"]\n",
    "output_response(data, output_file_name)"
   ]
  },
  {
   "cell_type": "markdown",
   "id": "52f39a3a",
   "metadata": {},
   "source": [
    "## The data model specification"
   ]
  },
  {
   "cell_type": "code",
   "execution_count": 13,
   "id": "53294b42",
   "metadata": {},
   "outputs": [],
   "source": [
    "prompt = f\"\"\"\n",
    "You are a database architect. \\\\\n",
    "Your task is to create a technical specification of the data model \\\\\n",
    "using overall project specification.\n",
    "\n",
    "Technical specification of the data model should include: \\\\\n",
    "- list of the entities with data type definitions and comments\n",
    "- list of the attributes with data type definitions and comments\n",
    "- description of dependecies between the entities with comments\n",
    "\n",
    "Write a data model specification based on the \\\\\n",
    "project specification delimited by triple backticks.\n",
    "\n",
    "Business requirements: ```{responses[\"project_specification\"]}```\n",
    "\"\"\"\n",
    "completion = get_completion(prompt)\n",
    "responses[\"data_model_specification\"] = completion.result"
   ]
  },
  {
   "cell_type": "code",
   "execution_count": 30,
   "id": "c1cb8053",
   "metadata": {},
   "outputs": [],
   "source": [
    "output_file_name = \"data_model_specification.md\"\n",
    "data = responses[\"data_model_specification\"]\n",
    "output_response(data, output_file_name)"
   ]
  },
  {
   "cell_type": "markdown",
   "id": "016229b6",
   "metadata": {},
   "source": [
    "## Database DDL script"
   ]
  },
  {
   "cell_type": "code",
   "execution_count": 16,
   "id": "65437cc7",
   "metadata": {},
   "outputs": [],
   "source": [
    "prompt = f\"\"\"\n",
    "\n",
    "You are a database architect.                                        \\\\\n",
    "Your task is to create a database *DDL script*                         \\\\\n",
    "using this *data model specification*                                    \\\\\n",
    "delimited by the triple backticks ```{responses[\"data_model_specification\"]}```. \\\\                                                                   \\\\\n",
    "- Use snake case style for the tables' and fields' names.              \\\\\n",
    "- To each table and to each field of the table provide extensive explanation in form of a comment \\\\\n",
    "                                                                     \\\\\n",
    "Use this *project specification*                                     \\\\\n",
    "delimited by double quotes: \"{responses[\"project_specification\"]}\"   \\\\\n",
    "to choose a particular SQL dialect.                                  \\\\\n",
    "\"\"\"\n",
    "completion = get_completion(prompt)\n",
    "responses[\"ddl_script\"] = completion.result"
   ]
  },
  {
   "cell_type": "code",
   "execution_count": 31,
   "id": "744be69b",
   "metadata": {},
   "outputs": [],
   "source": [
    "output_file_name = \"ddl_script.sql\"\n",
    "data = responses[\"ddl_script\"]\n",
    "output_response(data, output_file_name)"
   ]
  },
  {
   "cell_type": "markdown",
   "id": "f5b46fe0",
   "metadata": {},
   "source": [
    "## Backend code outline"
   ]
  },
  {
   "cell_type": "code",
   "execution_count": 18,
   "id": "df3d389c",
   "metadata": {},
   "outputs": [],
   "source": [
    "prompt = f\"\"\"\n",
    "You are an experienced backend developer. \\\\\n",
    "Your task is to implement backend module for a WEB application \\\\\n",
    "based on                                    \\\\\n",
    "- this *project specification* delimited by double quotes: \"{responses[\"project_specification\"]}\" \\\\\n",
    "and                                           \\\\\n",
    "- the database *DDL script* delimited by triple backticks: ```{responses[\"ddl_script\"]}```.     \\\\\n",
    "\n",
    "Use *project specification* to choose a programming language and framework.\n",
    "============================\n",
    "\n",
    "Use *DDL script* as follows:\n",
    "============================\n",
    "For each table definition in the *DDL script* provide \\\\\n",
    "- a repository class with methods defining CRUD operations \\\\\n",
    "- an entity class with properties and getters and setters for each of the properties \\\\\n",
    "- a controller class, enabling interactions with the frontend \\\\\n",
    "For each method provide a comment explaining the logic. \\\\\n",
    "\"\"\"\n",
    "\n",
    "completion = get_completion(prompt)\n",
    "responses[\"backend_code\"] = completion.result"
   ]
  },
  {
   "cell_type": "code",
   "execution_count": 32,
   "id": "a9c3848e",
   "metadata": {},
   "outputs": [],
   "source": [
    "output_file_name = \"backend_code.md\"\n",
    "data = responses[\"backend_code\"]\n",
    "output_response(data, output_file_name)"
   ]
  }
 ],
 "metadata": {
  "kernelspec": {
   "display_name": "Python 3 (ipykernel)",
   "language": "python",
   "name": "python3"
  },
  "language_info": {
   "codemirror_mode": {
    "name": "ipython",
    "version": 3
   },
   "file_extension": ".py",
   "mimetype": "text/x-python",
   "name": "python",
   "nbconvert_exporter": "python",
   "pygments_lexer": "ipython3",
   "version": "3.9.18"
  }
 },
 "nbformat": 4,
 "nbformat_minor": 5
}
